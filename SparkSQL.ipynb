{
 "cells": [
  {
   "cell_type": "code",
   "execution_count": 1,
   "id": "82139b50",
   "metadata": {},
   "outputs": [
    {
     "name": "stderr",
     "output_type": "stream",
     "text": [
      "Setting default log level to \"WARN\".\n",
      "To adjust logging level use sc.setLogLevel(newLevel). For SparkR, use setLogLevel(newLevel).\n",
      "24/07/07 19:09:07 WARN NativeCodeLoader: Unable to load native-hadoop library for your platform... using builtin-java classes where applicable\n",
      "24/07/07 19:09:11 WARN Utils: Service 'SparkUI' could not bind on port 4040. Attempting port 4041.\n"
     ]
    }
   ],
   "source": [
    "import findspark\n",
    "findspark.init()\n",
    "import pyspark\n",
    "from pyspark.sql import SparkSession\n",
    "from pyspark.sql import functions as F\n",
    "spark = SparkSession.builder.appName('sparksql').getOrCreate()"
   ]
  },
  {
   "cell_type": "code",
   "execution_count": 2,
   "id": "6ece4418",
   "metadata": {},
   "outputs": [
    {
     "name": "stderr",
     "output_type": "stream",
     "text": [
      "                                                                                \r"
     ]
    },
    {
     "name": "stdout",
     "output_type": "stream",
     "text": [
      "+-------+\n",
      "|(1 + 1)|\n",
      "+-------+\n",
      "|      2|\n",
      "+-------+\n",
      "\n"
     ]
    }
   ],
   "source": [
    "spark.sql(\"SELECT 1+1\").show()"
   ]
  },
  {
   "cell_type": "code",
   "execution_count": 3,
   "id": "1726dd3f",
   "metadata": {},
   "outputs": [],
   "source": [
    "spark.read.json(\"data/flight-data/json/*.json\").createOrReplaceTempView(\"flightsdata\")"
   ]
  },
  {
   "cell_type": "code",
   "execution_count": 4,
   "id": "4547cd20",
   "metadata": {},
   "outputs": [
    {
     "name": "stdout",
     "output_type": "stream",
     "text": [
      "+--------------------+-------------------+-----+\n",
      "|   DEST_COUNTRY_NAME|ORIGIN_COUNTRY_NAME|count|\n",
      "+--------------------+-------------------+-----+\n",
      "|             Senegal|      United States|   40|\n",
      "|Saint Vincent and...|      United States|    1|\n",
      "|               Samoa|      United States|   25|\n",
      "|         Switzerland|      United States|  294|\n",
      "|        Sint Maarten|      United States|  325|\n",
      "|            Suriname|      United States|    1|\n",
      "|              Sweden|      United States|  118|\n",
      "|    Saint Barthelemy|      United States|   39|\n",
      "|Saint Kitts and N...|      United States|  139|\n",
      "|           Singapore|      United States|    3|\n",
      "|        South Africa|      United States|   36|\n",
      "|               Spain|      United States|  420|\n",
      "|        Saudi Arabia|      United States|   83|\n",
      "|         Saint Lucia|      United States|  123|\n",
      "|         South Korea|      United States| 1048|\n",
      "|             Senegal|      United States|   29|\n",
      "|Saint Vincent and...|      United States|    1|\n",
      "|               Samoa|      United States|   28|\n",
      "|         Switzerland|      United States|  315|\n",
      "|        Sint Maarten|      United States|   61|\n",
      "+--------------------+-------------------+-----+\n",
      "only showing top 20 rows\n",
      "\n"
     ]
    }
   ],
   "source": [
    "spark.sql(\"SELECT * FROM flightsdata where DEST_COUNTRY_NAME like 'S%'\").show()"
   ]
  },
  {
   "cell_type": "code",
   "execution_count": 5,
   "id": "f3adfa01",
   "metadata": {},
   "outputs": [
    {
     "name": "stdout",
     "output_type": "stream",
     "text": [
      "+--------------------+--------+\n",
      "|   DEST_COUNTRY_NAME|count(1)|\n",
      "+--------------------+--------+\n",
      "|            Anguilla|       6|\n",
      "|              Russia|       6|\n",
      "|            Paraguay|       6|\n",
      "|             Senegal|       6|\n",
      "|              Sweden|       6|\n",
      "|            Kiribati|       6|\n",
      "|              Guyana|       6|\n",
      "|         Philippines|       6|\n",
      "|            Djibouti|       1|\n",
      "|            Malaysia|       5|\n",
      "|           Singapore|       5|\n",
      "|                Fiji|       6|\n",
      "|              Turkey|       6|\n",
      "|                Iraq|       1|\n",
      "|             Germany|       6|\n",
      "|         Afghanistan|       3|\n",
      "|              Jordan|       6|\n",
      "|               Palau|       6|\n",
      "|Turks and Caicos ...|       6|\n",
      "|              France|       6|\n",
      "+--------------------+--------+\n",
      "only showing top 20 rows\n",
      "\n"
     ]
    }
   ],
   "source": [
    "spark.sql(\"SELECT DEST_COUNTRY_NAME,count(1) FROM flightsdata group by DEST_COUNTRY_NAME\").show()"
   ]
  },
  {
   "cell_type": "code",
   "execution_count": 6,
   "id": "2feea5a1",
   "metadata": {},
   "outputs": [
    {
     "name": "stdout",
     "output_type": "stream",
     "text": [
      "+--------+\n",
      "|count(1)|\n",
      "+--------+\n",
      "|    1502|\n",
      "+--------+\n",
      "\n"
     ]
    }
   ],
   "source": [
    "spark.sql(\"SELECT count(1) FROM flightsdata\").show()"
   ]
  },
  {
   "cell_type": "code",
   "execution_count": 15,
   "id": "b3abc55d",
   "metadata": {},
   "outputs": [
    {
     "data": {
      "text/plain": [
       "DataFrame[]"
      ]
     },
     "execution_count": 15,
     "metadata": {},
     "output_type": "execute_result"
    }
   ],
   "source": [
    "#CREATE MANAGED TABLE USING PARQUET FILES DIRECTLY. Here Spark manages both data and metadata\n",
    "spark.sql(\"CREATE TABLE FLIGHTS_PQ (DEST_COUNTRY_NAME string,ORIGIN_COUNTRY_NAME string,count long) using parquet options (path '/Users/manikandanbellan/Documents/Learn/DEZoomcamp/spark/data/flight-data/parquet/*.parquet')\"\n",
    "         )"
   ]
  },
  {
   "cell_type": "code",
   "execution_count": 14,
   "id": "8eb33f3c",
   "metadata": {},
   "outputs": [
    {
     "data": {
      "text/plain": [
       "DataFrame[]"
      ]
     },
     "execution_count": 14,
     "metadata": {},
     "output_type": "execute_result"
    }
   ],
   "source": [
    "spark.sql(\"DROP TABLE FLIGHTS_JSON\")"
   ]
  },
  {
   "cell_type": "code",
   "execution_count": 16,
   "id": "6889c4c3",
   "metadata": {},
   "outputs": [
    {
     "name": "stdout",
     "output_type": "stream",
     "text": [
      "+--------------------+-------------------+-----+\n",
      "|   DEST_COUNTRY_NAME|ORIGIN_COUNTRY_NAME|count|\n",
      "+--------------------+-------------------+-----+\n",
      "|       United States|            Romania|    1|\n",
      "|       United States|            Ireland|  264|\n",
      "|       United States|              India|   69|\n",
      "|               Egypt|      United States|   24|\n",
      "|   Equatorial Guinea|      United States|    1|\n",
      "|       United States|          Singapore|   25|\n",
      "|       United States|            Grenada|   54|\n",
      "|          Costa Rica|      United States|  477|\n",
      "|             Senegal|      United States|   29|\n",
      "|       United States|   Marshall Islands|   44|\n",
      "|              Guyana|      United States|   17|\n",
      "|       United States|       Sint Maarten|   53|\n",
      "|               Malta|      United States|    1|\n",
      "|             Bolivia|      United States|   46|\n",
      "|            Anguilla|      United States|   21|\n",
      "|Turks and Caicos ...|      United States|  136|\n",
      "|       United States|        Afghanistan|    2|\n",
      "|Saint Vincent and...|      United States|    1|\n",
      "|               Italy|      United States|  390|\n",
      "|       United States|             Russia|  156|\n",
      "+--------------------+-------------------+-----+\n",
      "only showing top 20 rows\n",
      "\n"
     ]
    }
   ],
   "source": [
    "spark.sql(\"select * from flights_pq\").show()"
   ]
  },
  {
   "cell_type": "code",
   "execution_count": 24,
   "id": "4b048c7a",
   "metadata": {},
   "outputs": [
    {
     "name": "stdout",
     "output_type": "stream",
     "text": [
      "+-----------------+-------------------+-----+\n",
      "|DEST_COUNTRY_NAME|ORIGIN_COUNTRY_NAME|count|\n",
      "+-----------------+-------------------+-----+\n",
      "|    United States|              India|   69|\n",
      "+-----------------+-------------------+-----+\n",
      "\n"
     ]
    }
   ],
   "source": [
    "spark.sql(\"select * from flights_pq where origin_country_name = 'India'\").show()"
   ]
  },
  {
   "cell_type": "code",
   "execution_count": null,
   "id": "f31a45c6",
   "metadata": {},
   "outputs": [],
   "source": []
  }
 ],
 "metadata": {
  "kernelspec": {
   "display_name": "Python 3 (ipykernel)",
   "language": "python",
   "name": "python3"
  },
  "language_info": {
   "codemirror_mode": {
    "name": "ipython",
    "version": 3
   },
   "file_extension": ".py",
   "mimetype": "text/x-python",
   "name": "python",
   "nbconvert_exporter": "python",
   "pygments_lexer": "ipython3",
   "version": "3.11.5"
  }
 },
 "nbformat": 4,
 "nbformat_minor": 5
}

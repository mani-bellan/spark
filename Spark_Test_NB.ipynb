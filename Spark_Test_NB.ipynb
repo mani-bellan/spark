{
 "cells": [
  {
   "cell_type": "code",
   "execution_count": 1,
   "id": "e7c3986a",
   "metadata": {},
   "outputs": [
    {
     "name": "stderr",
     "output_type": "stream",
     "text": [
      "Setting default log level to \"WARN\".\n",
      "To adjust logging level use sc.setLogLevel(newLevel). For SparkR, use setLogLevel(newLevel).\n",
      "24/06/27 19:08:36 WARN NativeCodeLoader: Unable to load native-hadoop library for your platform... using builtin-java classes where applicable\n",
      "                                                                                \r"
     ]
    },
    {
     "name": "stdout",
     "output_type": "stream",
     "text": [
      "3.14176328\n"
     ]
    }
   ],
   "source": [
    "import findspark\n",
    "findspark.init()\n",
    "import pyspark\n",
    "import random\n",
    "sc = pyspark.SparkContext(appName=\"Pi\")\n",
    "num_samples = 100000000\n",
    "def inside(p):     \n",
    "  x, y = random.random(), random.random()\n",
    "  return x*x + y*y < 1\n",
    "count = sc.parallelize(range(0, num_samples)).filter(inside).count()\n",
    "pi = 4 * count / num_samples\n",
    "print(pi)\n",
    "sc.stop()"
   ]
  },
  {
   "cell_type": "code",
   "execution_count": 14,
   "id": "9924c4bb",
   "metadata": {},
   "outputs": [],
   "source": [
    "import findspark\n",
    "findspark.init()\n",
    "import pyspark\n",
    "from pyspark.sql import SparkSession\n",
    "from pyspark.sql import functions as F\n",
    "spark = SparkSession.builder.appName('demo').getOrCreate()\n"
   ]
  },
  {
   "cell_type": "code",
   "execution_count": 15,
   "id": "572726b3",
   "metadata": {},
   "outputs": [],
   "source": [
    "df_green_taxi = spark.read.parquet('data/pq/green/*/*')"
   ]
  },
  {
   "cell_type": "code",
   "execution_count": 16,
   "id": "0a0014cc",
   "metadata": {},
   "outputs": [],
   "source": [
    "df_green_taxi = df_green_taxi \\\n",
    "    .withColumnRenamed('tpep_pickup_datetime', 'pickup_datetime') \\\n",
    "    .withColumnRenamed('tpep_dropoff_datetime', 'dropoff_datetime')"
   ]
  },
  {
   "cell_type": "code",
   "execution_count": 17,
   "id": "d1528f00",
   "metadata": {},
   "outputs": [],
   "source": [
    "df_yellow_taxi = spark.read.parquet('data/pq/yellow/*/*')"
   ]
  },
  {
   "cell_type": "code",
   "execution_count": 18,
   "id": "af3dc275",
   "metadata": {},
   "outputs": [],
   "source": [
    "df_yellow_taxi = df_yellow_taxi \\\n",
    "    .withColumnRenamed('tpep_pickup_datetime', 'pickup_datetime') \\\n",
    "    .withColumnRenamed('tpep_dropoff_datetime', 'dropoff_datetime')"
   ]
  },
  {
   "cell_type": "code",
   "execution_count": 19,
   "id": "f8960b7e",
   "metadata": {},
   "outputs": [],
   "source": [
    "common_colums = [\n",
    "    'VendorID',\n",
    "    'pickup_datetime',\n",
    "    'dropoff_datetime',\n",
    "    'store_and_fwd_flag',\n",
    "    'RatecodeID',\n",
    "    'PULocationID',\n",
    "    'DOLocationID',\n",
    "    'passenger_count',\n",
    "    'trip_distance',\n",
    "    'fare_amount',\n",
    "    'extra',\n",
    "    'mta_tax',\n",
    "    'tip_amount',\n",
    "    'tolls_amount',\n",
    "    'improvement_surcharge',\n",
    "    'total_amount',\n",
    "    'payment_type',\n",
    "    'congestion_surcharge'\n",
    "]"
   ]
  },
  {
   "cell_type": "code",
   "execution_count": 20,
   "id": "a0532430",
   "metadata": {},
   "outputs": [],
   "source": [
    "df_green_sel = df_green_taxi \\\n",
    "    .select(common_colums) \\\n",
    "    .withColumn('service_type', F.lit('green'))"
   ]
  },
  {
   "cell_type": "code",
   "execution_count": 21,
   "id": "cdc2d209",
   "metadata": {},
   "outputs": [],
   "source": [
    "df_yellow_sel = df_yellow_taxi \\\n",
    "    .select(common_colums) \\\n",
    "    .withColumn('service_type', F.lit('yellow'))"
   ]
  },
  {
   "cell_type": "code",
   "execution_count": 22,
   "id": "75c9fee4",
   "metadata": {},
   "outputs": [],
   "source": [
    "df_trips_data = df_green_sel.unionAll(df_yellow_sel)"
   ]
  },
  {
   "cell_type": "code",
   "execution_count": 24,
   "id": "94b97e94",
   "metadata": {},
   "outputs": [],
   "source": [
    "df_trips_data.createOrReplaceTempView('taxi_trips_data')"
   ]
  },
  {
   "cell_type": "code",
   "execution_count": 25,
   "id": "0294f3d3",
   "metadata": {},
   "outputs": [],
   "source": [
    "df_final = spark.sql(\"\"\"\n",
    "SELECT \n",
    "    -- Reveneue grouping \n",
    "    PULocationID AS revenue_zone,\n",
    "    date_trunc('month', pickup_datetime) AS revenue_month, \n",
    "    service_type, \n",
    "\n",
    "    -- Revenue calculation \n",
    "    SUM(fare_amount) AS revenue_monthly_fare,\n",
    "    SUM(extra) AS revenue_monthly_extra,\n",
    "    SUM(mta_tax) AS revenue_monthly_mta_tax,\n",
    "    SUM(tip_amount) AS revenue_monthly_tip_amount,\n",
    "    SUM(tolls_amount) AS revenue_monthly_tolls_amount,\n",
    "    SUM(improvement_surcharge) AS revenue_monthly_improvement_surcharge,\n",
    "    SUM(total_amount) AS revenue_monthly_total_amount,\n",
    "    SUM(congestion_surcharge) AS revenue_monthly_congestion_surcharge,\n",
    "\n",
    "    -- Additional calculations\n",
    "    AVG(passenger_count) AS avg_montly_passenger_count,\n",
    "    AVG(trip_distance) AS avg_montly_trip_distance\n",
    "FROM\n",
    "    taxi_trips_data\n",
    "GROUP BY\n",
    "    1, 2, 3\n",
    "\"\"\")"
   ]
  },
  {
   "cell_type": "code",
   "execution_count": 26,
   "id": "a044f2ad",
   "metadata": {},
   "outputs": [
    {
     "name": "stderr",
     "output_type": "stream",
     "text": [
      "[Stage 6:=====================================================>   (15 + 1) / 16]\r"
     ]
    },
    {
     "name": "stdout",
     "output_type": "stream",
     "text": [
      "+------------+-------------------+------------+--------------------+---------------------+-----------------------+--------------------------+----------------------------+-------------------------------------+----------------------------+------------------------------------+--------------------------+------------------------+\n",
      "|revenue_zone|      revenue_month|service_type|revenue_monthly_fare|revenue_monthly_extra|revenue_monthly_mta_tax|revenue_monthly_tip_amount|revenue_monthly_tolls_amount|revenue_monthly_improvement_surcharge|revenue_monthly_total_amount|revenue_monthly_congestion_surcharge|avg_montly_passenger_count|avg_montly_trip_distance|\n",
      "+------------+-------------------+------------+--------------------+---------------------+-----------------------+--------------------------+----------------------------+-------------------------------------+----------------------------+------------------------------------+--------------------------+------------------------+\n",
      "|           1|2020-03-01 00:00:00|       green|             58753.0|             73442.55|     172083.48000000365|          23834.7599999998|                        NULL|                    44926.50000006185|           2286101.750001396|                            224637.0|                      NULL|      1.1104101360986798|\n",
      "|           2|2020-03-01 00:00:00|       green|              5258.0|               5986.5|      14844.77999999994|        2067.8099999999854|                        NULL|                    3736.500000000805|           196684.4399999786|                             19338.0|                      NULL|       1.195607843137255|\n",
      "|           4|2020-02-01 00:00:00|       green|               776.5|                828.0|     2122.0799999999995|        173.18000000000006|                        NULL|                    521.1000000000123|           25684.35999999945|                              2678.0|                      NULL|      1.2450704225352112|\n",
      "|           1|2019-12-01 00:00:00|       green|                 7.5|                  7.5|     10.370000000000001|                       0.0|                        NULL|                    5.099999999999999|          197.25000000000003|                                27.0|                      NULL|      1.4705882352941178|\n",
      "|           5|2020-11-01 00:00:00|       green|               311.0|                600.0|     1656.2999999999988|        140.72000000000003|                        NULL|                    368.1000000000082|          18506.269999999735|                              1804.0|                      NULL|      1.1049233252623083|\n",
      "|        NULL|2020-03-01 00:00:00|       green|              6107.1|               1292.5|     2218.1400000000003|        41173.940000001996|                        NULL|                   14057.099999989281|          1086539.2500001555|                                NULL|                      NULL|                    NULL|\n",
      "|        NULL|2020-02-01 00:00:00|       green|  226815.58999999997|               5931.0|      533.4399999999998|         68278.98000000969|                        NULL|                    22415.69999996901|            2635219.16999981|                                NULL|                      NULL|                    NULL|\n",
      "|           9|2020-10-01 00:00:00|       green|                 0.0|                  0.0|                   1.86|                       0.0|                        NULL|                                  0.6|                       21.16|                                 2.0|                      NULL|                     5.0|\n",
      "|           9|2020-01-01 00:00:00|       green|                 0.0|                  0.0|                   1.86|                       0.0|                        NULL|                                  0.6|                       20.46|                                 3.0|                      NULL|                     5.0|\n",
      "|           5|2020-02-01 00:00:00|       green|             3215.75|               4491.0|     12424.429999999984|         1117.779999999999|                        NULL|                    2720.700000000189|          133024.21000001053|                             13375.0|                      NULL|      1.0456576223166612|\n",
      "|           4|2020-03-01 00:00:00|       green|              352.25|                428.5|     1078.0499999999997|        118.07000000000001|                        NULL|                    268.2000000000044|          13147.619999999872|                              1429.0|                      NULL|        1.20327868852459|\n",
      "|           2|2020-10-01 00:00:00|       green|             1365.25|               1402.5|      4423.690000000002|         944.2400000000005|                        NULL|                    907.7999999999537|            54513.3800000014|                              4383.0|                      NULL|      1.3095470837406322|\n",
      "|           1|2020-02-01 00:00:00|       green|           110189.31|            132772.05|     336713.97000002465|          38660.6700000008|                        NULL|                    80833.80000041018|           4078348.339987618|                            396260.0|                      NULL|       1.091224246502205|\n",
      "|           7|2020-01-01 00:00:00|       green|                 0.0|                  0.0|      5.109999999999999|                      6.12|                        NULL|                                  2.1|          252.03000000000003|                                10.0|                      NULL|                     5.0|\n",
      "|           1|2020-07-01 00:00:00|       green|            13136.75|              18573.5|     45522.219999999936|        12624.639999999998|                        NULL|                   11450.100000002876|           682260.9899998333|                             56429.0|                      NULL|       1.126954945624029|\n",
      "|           3|2020-01-01 00:00:00|       green|              2385.5|               2343.5|      5236.390000000003|         821.7000000000003|                        NULL|                   1445.0999999998724|           74098.99000000463|                              7544.0|                      NULL|      1.1734693877551021|\n",
      "|           4|2020-10-01 00:00:00|       green|               56.25|                 80.0|     237.35000000000002|                    159.12|                        NULL|                    50.09999999999988|          3035.0200000000036|                               227.0|                      NULL|      1.1676646706586826|\n",
      "|           1|2020-04-01 00:00:00|       green|              7385.5|              10785.0|     23599.059999999983|          6597.18999999991|                        NULL|                    6640.800000002566|           377429.9299998946|                             34024.0|                      NULL|      1.1350310008857396|\n",
      "|           6|2020-03-01 00:00:00|       green|               828.5|               1548.0|     3547.4000000000024|         290.4500000000001|                        NULL|                    930.5999999999502|          42810.350000000544|                              4704.0|                      NULL|      1.0077319587628866|\n",
      "|           1|2010-09-01 00:00:00|       green|                 1.0|                  1.5|                   4.16|                       0.0|                        NULL|                   0.8999999999999999|                       38.56|                                 4.0|                      NULL|                     1.0|\n",
      "+------------+-------------------+------------+--------------------+---------------------+-----------------------+--------------------------+----------------------------+-------------------------------------+----------------------------+------------------------------------+--------------------------+------------------------+\n",
      "only showing top 20 rows\n",
      "\n"
     ]
    },
    {
     "name": "stderr",
     "output_type": "stream",
     "text": [
      "\r",
      "                                                                                \r"
     ]
    }
   ],
   "source": [
    "df_final.show()"
   ]
  },
  {
   "cell_type": "code",
   "execution_count": null,
   "id": "b28ebc3c",
   "metadata": {},
   "outputs": [],
   "source": [
    "df_final.col"
   ]
  }
 ],
 "metadata": {
  "kernelspec": {
   "display_name": "Python 3 (ipykernel)",
   "language": "python",
   "name": "python3"
  },
  "language_info": {
   "codemirror_mode": {
    "name": "ipython",
    "version": 3
   },
   "file_extension": ".py",
   "mimetype": "text/x-python",
   "name": "python",
   "nbconvert_exporter": "python",
   "pygments_lexer": "ipython3",
   "version": "3.11.5"
  }
 },
 "nbformat": 4,
 "nbformat_minor": 5
}
